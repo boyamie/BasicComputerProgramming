{
  "nbformat": 4,
  "nbformat_minor": 0,
  "metadata": {
    "colab": {
      "provenance": [],
      "authorship_tag": "ABX9TyMpM9sZLkpCPFXj3SpiRFx8"
    },
    "kernelspec": {
      "name": "python3",
      "display_name": "Python 3"
    },
    "language_info": {
      "name": "python"
    }
  },
  "cells": [
    {
      "cell_type": "markdown",
      "source": [
        "Hypothesis(Linear Regression): 인공신경망의 구조를 나타냄"
      ],
      "metadata": {
        "id": "OG9FR-MvVR8S"
      }
    },
    {
      "cell_type": "code",
      "source": [
        "import torch"
      ],
      "metadata": {
        "id": "3kUw1DR3WkLm"
      },
      "execution_count": 2,
      "outputs": []
    },
    {
      "cell_type": "code",
      "execution_count": 3,
      "metadata": {
        "id": "ktTFaKEAFTqV"
      },
      "outputs": [],
      "source": [
        "X_train = torch.FloatTensor([[1],[2],[3]])\n",
        "y_train = torch.FloatTensor([[2],[4],[6]])\n",
        "W = torch.zeros(1, requires_grad=True) # 0으로 초기화\n",
        "b = torch.zeros(1, requires_grad=True) # True: 학습할 것\n",
        "hypothesis = X_train * W + b"
      ]
    },
    {
      "cell_type": "markdown",
      "source": [
        "Compute loss: torch.mean으로 평균 계산"
      ],
      "metadata": {
        "id": "_bbtVECCW_1I"
      }
    },
    {
      "cell_type": "code",
      "source": [
        "cost = torch.mean((hypothesis-y_train)**2) #MSE"
      ],
      "metadata": {
        "id": "-k_LMm_iXFQD"
      },
      "execution_count": 4,
      "outputs": []
    },
    {
      "cell_type": "markdown",
      "source": [
        "Gradient descent\n",
        "\n",
        "1.   torch.optim 라이브러리\n",
        " *   [W,b]: 학습할 tensor\n",
        " *   lr:0.01 learning rate\n",
        "\n",
        "2.   3단계\n",
        " * zero_grad(): gradient초기화\n",
        " * backward(): gradient계산\n",
        " * step(): 개선\n",
        "\n"
      ],
      "metadata": {
        "id": "erhrFLWpXTmI"
      }
    },
    {
      "cell_type": "code",
      "source": [
        "from torch import optim\n",
        "optimizer = optim.SGD([W,b], lr=0.01)\n",
        "optimizer.zero_grad()\n",
        "cost.backward()\n",
        "optimizer.step()"
      ],
      "metadata": {
        "id": "D856m7xdYXsi"
      },
      "execution_count": 6,
      "outputs": []
    },
    {
      "cell_type": "markdown",
      "source": [
        "1.   Hypothesis 예측\n",
        "2.   Cost 계산\n",
        "3.   Optimizer로 학습"
      ],
      "metadata": {
        "id": "HkW1-WmMZJGe"
      }
    },
    {
      "cell_type": "code",
      "source": [
        "nb_epochs = 1000\n",
        "for epoch in range(1, nb_epochs + 1):\n",
        "  hypothesis = X_train *W + b\n",
        "  cost = torch.mean((hypothesis - y_train) ** 2)\n",
        "\n",
        "  optimizer.zero_grad()\n",
        "  cost.backward()\n",
        "  optimizer.step()"
      ],
      "metadata": {
        "id": "SYXWG4piZHyK"
      },
      "execution_count": 7,
      "outputs": []
    },
    {
      "cell_type": "markdown",
      "source": [
        "Simpler Hypothesis Function: no bias\n",
        "\n",
        "Dummy Data ) Input = Output"
      ],
      "metadata": {
        "id": "-Lt8VQDgauMn"
      }
    },
    {
      "cell_type": "code",
      "source": [
        "X_train = torch.FloatTensor([[1],[2],[3]])\n",
        "y_train = torch.FloatTensor([[1],[2],[3]])"
      ],
      "metadata": {
        "id": "6BtlIW5YayWO"
      },
      "execution_count": null,
      "outputs": []
    },
    {
      "cell_type": "markdown",
      "source": [
        "Cost function![costfunction.png](data:image/png;base64,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)"
      ],
      "metadata": {
        "id": "BaqOxdxPc87i"
      }
    }
  ]
}